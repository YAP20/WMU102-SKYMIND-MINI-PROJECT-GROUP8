{
  "nbformat": 4,
  "nbformat_minor": 0,
  "metadata": {
    "colab": {
      "name": "The Detection of Email Spamming. Credit to: Computer Science",
      "provenance": [],
      "collapsed_sections": [],
      "include_colab_link": true
    },
    "kernelspec": {
      "name": "python3",
      "display_name": "Python 3"
    },
    "language_info": {
      "name": "python"
    }
  },
  "cells": [
    {
      "cell_type": "markdown",
      "metadata": {
        "id": "view-in-github",
        "colab_type": "text"
      },
      "source": [
        "<a href=\"https://colab.research.google.com/github/YAP20/WMU102-SKYMIND-MINI-PROJECT-GROUP8/blob/main/The_Detection_of_Email_Spamming_Credit_to_Computer_Science.ipynb\" target=\"_parent\"><img src=\"https://colab.research.google.com/assets/colab-badge.svg\" alt=\"Open In Colab\"/></a>"
      ]
    },
    {
      "cell_type": "markdown",
      "metadata": {
        "id": "HK2tBphGa1hR"
      },
      "source": [
        "**WMU 102 MAKERS@USM-LEVEL 1**\n",
        "\n",
        "**SKYMIND MINI PROJECT**\n",
        "\n",
        "**GROUP 8**\n",
        "\n",
        "**Members with Matric Number:**\n",
        "1. CHAN SIEW PEI (142132)\n",
        "2. CHEE KAR YAN (141260)\n",
        "3. CHIA XIN YI  (142681)\n",
        "4. YAP SIN YEE  (143547)\n",
        "\n",
        "**TITLE**\n",
        "\n",
        "The Detection of Email Spamming"
      ]
    },
    {
      "cell_type": "markdown",
      "metadata": {
        "id": "dTYtdBK565pD"
      },
      "source": [
        "**INTRODUCTION**\n",
        "\n",
        "The use of electronic messaging systems to send unwanted bulk messages are called spam. Many individuals are unaware that when they download free software, join up for a new service, or even update old software, they are signing up for mailers. They only need to click the \"unsubscribe\" button to stop receiving emails. However, it takes time to unsubscribe the spam emails one by one, there are also some malicious spammers who will take advantage of this and offer the same format at the bottom of their emails linking the unsubscribe link to malicious downloads and/or tracking cookies. As a result, successful spam email detection and filtration are critical for all email users.\n",
        "\n",
        "Machine learning (ML) techniques have recently been effectively utilised to detect and filter spam emails. A spam-detector algorithm must figure out how to filter out spam while avoiding flagging authentic items that people wish to receive in their mailbox. To classify data, ML algorithms use statistical models. A trained machine learning model must be able to detect if the sequence of words in an email is more similar to spam emails or not. This means that developers must supply a set of spam and ham message examples to their machine learning model, and then wait for it to identify the relevant patterns that distinguish the two categories. Most email providers have their own vast data sets of labeled emails, and every time they flag an email as spam, it actually provides those developers with training data for its ML algorithms. \n",
        "\n",
        "The ML model used by Google have now advanced to the point that it can detect and filter out spam and phishing emails with about 99.9 percent accuracy. According to Google, their Gmail Team use artificial intelligence (AI) to identify and filter spam mails. Gmail Team said that the spam filter now uses an artificial neural network to detect and block the sneaky spam, also, with advances in ML, the AI will take emails users preferences and use them to customize their own spam filter. The industries involved in spam filtering are Microsoft 365, Google and etc. For instances, Microsoft 365 employ ML technologies to sort through a massive amount of information. \n",
        "\n",
        "We present some systematic steps of the machine learning based email spam filtering approaches. We use the ML techniques to learn and identify spam mails and phishing messages by analyzing loads of such messages throughout a vast collection of data. There are two types of data present which is ham (non-spam) and spam data in our analysis.\n"
      ]
    },
    {
      "cell_type": "markdown",
      "metadata": {
        "id": "kQj0NPGinzXY"
      },
      "source": [
        "**PROBLEM STATEMENT**\n",
        "\n",
        "Spamming is one of the major attacks that accumulates numerous of compromised machines by sending unwanted messages, viruses and phishing through emails. We choose this project as nowadays spam and fraud cases are still happening via emails, when an individual clicked the given link, the information may be hacked. The problems people might be facing are: \n",
        "-\tUnwanted emails irritating Internet users.\n",
        "-\tSpam can crash mail servers and fill up hard drives.\n",
        "-\tCritical messages are missed and delay.\n",
        "-\tIdentify theft."
      ]
    },
    {
      "cell_type": "markdown",
      "metadata": {
        "id": "wCG0h_np9EeF"
      },
      "source": [
        "**DATA SET**\n",
        "\n",
        "The dataset used in this application is the spam_ham dataset. This spam_ham dataset is obtained from the Kaggle website. Mr. Venkatesh Garnepudi is the creator of this dataset, and he has offered a .csv file for anyone interested to download. There are four columns in this dataset such as number, label, text, and label_num. Number denotes the number of emails; label denotes the email labels, which can either be \"Spam\" or \"Ham\"; text denotes the content of the email; and label_num denotes two cases: if the email is considered spam, the label is 1; otherwise, it is 0."
      ]
    },
    {
      "cell_type": "code",
      "metadata": {
        "id": "DOQo8cA5tOgU"
      },
      "source": [
        "#Import libraries\n",
        "import numpy as np\n",
        "import pandas as pd\n",
        "import nltk\n",
        "from nltk.corpus import stopwords\n",
        "import string"
      ],
      "execution_count": null,
      "outputs": []
    },
    {
      "cell_type": "code",
      "metadata": {
        "colab": {
          "resources": {
            "http://localhost:8080/nbextensions/google.colab/files.js": {
              "data": "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",
              "ok": true,
              "headers": [
                [
                  "content-type",
                  "application/javascript"
                ]
              ],
              "status": 200,
              "status_text": ""
            }
          },
          "base_uri": "https://localhost:8080/",
          "height": 73
        },
        "id": "ncDRCwiktd8r",
        "outputId": "6fe192d6-1a8e-45d6-85d2-ebb93434d457"
      },
      "source": [
        "#Load the data\n",
        "from google.colab import files\n",
        "uploaded = files.upload()"
      ],
      "execution_count": null,
      "outputs": [
        {
          "output_type": "display_data",
          "data": {
            "text/html": [
              "\n",
              "     <input type=\"file\" id=\"files-d66ede96-f825-432c-ae27-201e6fb7d495\" name=\"files[]\" multiple disabled\n",
              "        style=\"border:none\" />\n",
              "     <output id=\"result-d66ede96-f825-432c-ae27-201e6fb7d495\">\n",
              "      Upload widget is only available when the cell has been executed in the\n",
              "      current browser session. Please rerun this cell to enable.\n",
              "      </output>\n",
              "      <script src=\"/nbextensions/google.colab/files.js\"></script> "
            ],
            "text/plain": [
              "<IPython.core.display.HTML object>"
            ]
          },
          "metadata": {
            "tags": []
          }
        },
        {
          "output_type": "stream",
          "text": [
            "Saving spam_ham_dataset.csv to spam_ham_dataset.csv\n"
          ],
          "name": "stdout"
        }
      ]
    },
    {
      "cell_type": "code",
      "metadata": {
        "id": "Ot9HfxHmvhed",
        "colab": {
          "base_uri": "https://localhost:8080/",
          "height": 195
        },
        "outputId": "afbbed82-ffce-4449-a145-13dc48e37cb0"
      },
      "source": [
        "#Read the CSV file\n",
        "df = pd.read_csv(\"spam_ham_dataset.csv\")\n",
        "\n",
        "#Print the first 5 rows of data\n",
        "df.head(5)"
      ],
      "execution_count": null,
      "outputs": [
        {
          "output_type": "execute_result",
          "data": {
            "text/html": [
              "<div>\n",
              "<style scoped>\n",
              "    .dataframe tbody tr th:only-of-type {\n",
              "        vertical-align: middle;\n",
              "    }\n",
              "\n",
              "    .dataframe tbody tr th {\n",
              "        vertical-align: top;\n",
              "    }\n",
              "\n",
              "    .dataframe thead th {\n",
              "        text-align: right;\n",
              "    }\n",
              "</style>\n",
              "<table border=\"1\" class=\"dataframe\">\n",
              "  <thead>\n",
              "    <tr style=\"text-align: right;\">\n",
              "      <th></th>\n",
              "      <th>Number</th>\n",
              "      <th>label</th>\n",
              "      <th>text</th>\n",
              "      <th>label_num</th>\n",
              "    </tr>\n",
              "  </thead>\n",
              "  <tbody>\n",
              "    <tr>\n",
              "      <th>0</th>\n",
              "      <td>605</td>\n",
              "      <td>ham</td>\n",
              "      <td>Subject: enron methanol ; meter # : 988291\\r\\n...</td>\n",
              "      <td>0</td>\n",
              "    </tr>\n",
              "    <tr>\n",
              "      <th>1</th>\n",
              "      <td>2349</td>\n",
              "      <td>ham</td>\n",
              "      <td>Subject: hpl nom for january 9 , 2001\\r\\n( see...</td>\n",
              "      <td>0</td>\n",
              "    </tr>\n",
              "    <tr>\n",
              "      <th>2</th>\n",
              "      <td>3624</td>\n",
              "      <td>ham</td>\n",
              "      <td>Subject: neon retreat\\r\\nho ho ho , we ' re ar...</td>\n",
              "      <td>0</td>\n",
              "    </tr>\n",
              "    <tr>\n",
              "      <th>3</th>\n",
              "      <td>4685</td>\n",
              "      <td>spam</td>\n",
              "      <td>Subject: photoshop , windows , office . cheap ...</td>\n",
              "      <td>1</td>\n",
              "    </tr>\n",
              "    <tr>\n",
              "      <th>4</th>\n",
              "      <td>2030</td>\n",
              "      <td>ham</td>\n",
              "      <td>Subject: re : indian springs\\r\\nthis deal is t...</td>\n",
              "      <td>0</td>\n",
              "    </tr>\n",
              "  </tbody>\n",
              "</table>\n",
              "</div>"
            ],
            "text/plain": [
              "   Number label                                               text  label_num\n",
              "0     605   ham  Subject: enron methanol ; meter # : 988291\\r\\n...          0\n",
              "1    2349   ham  Subject: hpl nom for january 9 , 2001\\r\\n( see...          0\n",
              "2    3624   ham  Subject: neon retreat\\r\\nho ho ho , we ' re ar...          0\n",
              "3    4685  spam  Subject: photoshop , windows , office . cheap ...          1\n",
              "4    2030   ham  Subject: re : indian springs\\r\\nthis deal is t...          0"
            ]
          },
          "metadata": {
            "tags": []
          },
          "execution_count": 7
        }
      ]
    },
    {
      "cell_type": "markdown",
      "metadata": {
        "id": "KsVvmdrBIwNE"
      },
      "source": [
        "We first obtain the number of rows and columns, name of the columns, remove duplicates and obtain the new number of rows and columns. "
      ]
    },
    {
      "cell_type": "code",
      "metadata": {
        "id": "Qq8yswr9yUP6",
        "colab": {
          "base_uri": "https://localhost:8080/"
        },
        "outputId": "db50f066-4583-458d-94a4-397eefb637b7"
      },
      "source": [
        "#Print the shape (Get the number of rows and columns)\n",
        "df.shape"
      ],
      "execution_count": null,
      "outputs": [
        {
          "output_type": "execute_result",
          "data": {
            "text/plain": [
              "(5171, 4)"
            ]
          },
          "metadata": {
            "tags": []
          },
          "execution_count": 8
        }
      ]
    },
    {
      "cell_type": "code",
      "metadata": {
        "id": "YiR9krb9zGv_",
        "colab": {
          "base_uri": "https://localhost:8080/"
        },
        "outputId": "ee49c146-abf9-4d63-f3ab-d5bae75484f3"
      },
      "source": [
        "#Get the columns names\n",
        "df.columns"
      ],
      "execution_count": null,
      "outputs": [
        {
          "output_type": "execute_result",
          "data": {
            "text/plain": [
              "Index(['Number', 'label', 'text', 'label_num'], dtype='object')"
            ]
          },
          "metadata": {
            "tags": []
          },
          "execution_count": 10
        }
      ]
    },
    {
      "cell_type": "code",
      "metadata": {
        "id": "AmfReSXFzKex"
      },
      "source": [
        "#Check for duplicates and remove them\n",
        "df.drop_duplicates(inplace = True)"
      ],
      "execution_count": null,
      "outputs": []
    },
    {
      "cell_type": "code",
      "metadata": {
        "id": "ijpV4EFizOF6",
        "colab": {
          "base_uri": "https://localhost:8080/"
        },
        "outputId": "e7a8ff6d-f353-4249-ba48-34d3aab2ae4d"
      },
      "source": [
        "#Show the new shape (new number of rows and columns)\n",
        "df.shape"
      ],
      "execution_count": null,
      "outputs": [
        {
          "output_type": "execute_result",
          "data": {
            "text/plain": [
              "(5171, 4)"
            ]
          },
          "metadata": {
            "tags": []
          },
          "execution_count": 15
        }
      ]
    },
    {
      "cell_type": "markdown",
      "metadata": {
        "id": "U6gvZTkgtkIg"
      },
      "source": [
        "Note that the number of rows before and after dropping the duplicates are the same, which is 5,171 rows, indicating that there is no duplicate in this data set. "
      ]
    },
    {
      "cell_type": "code",
      "metadata": {
        "id": "We1lrVtBO3eu",
        "colab": {
          "base_uri": "https://localhost:8080/"
        },
        "outputId": "fd82e00b-0e3d-4cb2-f1d5-9471f1fe3ab7"
      },
      "source": [
        "#Show the number of missing data (NAN , NaN , na) for each column\n",
        "df.isnull().sum()"
      ],
      "execution_count": null,
      "outputs": [
        {
          "output_type": "execute_result",
          "data": {
            "text/plain": [
              "Number       0\n",
              "label        0\n",
              "text         0\n",
              "label_num    0\n",
              "dtype: int64"
            ]
          },
          "metadata": {
            "tags": []
          },
          "execution_count": 13
        }
      ]
    },
    {
      "cell_type": "markdown",
      "metadata": {
        "id": "AUZ5S3vSuLaX"
      },
      "source": [
        "There is no missing data in this dataset. Hence,we proceed to obtain the summary statistics of this dataset."
      ]
    },
    {
      "cell_type": "code",
      "metadata": {
        "colab": {
          "base_uri": "https://localhost:8080/"
        },
        "id": "AJaMQurCesOm",
        "outputId": "974e01d8-ea6a-492c-cc38-9202acd4e8c8"
      },
      "source": [
        "#Summary statistic for ham and spam in the dataset\n",
        "df.label.describe()"
      ],
      "execution_count": null,
      "outputs": [
        {
          "output_type": "execute_result",
          "data": {
            "text/plain": [
              "count     5171\n",
              "unique       2\n",
              "top        ham\n",
              "freq      3672\n",
              "Name: label, dtype: object"
            ]
          },
          "metadata": {
            "tags": []
          },
          "execution_count": 14
        }
      ]
    },
    {
      "cell_type": "markdown",
      "metadata": {
        "id": "bxKUqnLip1HI"
      },
      "source": [
        "Since this dataset is a nominal dataset, frequency is the only descriptive statistic that can be shown. From the summary statistic above, the emails that are considered as ham entails the highest frequency which is 3,672 letters out of 5,171 letters."
      ]
    },
    {
      "cell_type": "code",
      "metadata": {
        "colab": {
          "base_uri": "https://localhost:8080/",
          "height": 283
        },
        "id": "lfYgwSUfpA7o",
        "outputId": "b5a90512-f175-4382-fd3d-8750a93c3fd4"
      },
      "source": [
        "#Show the number of ham and spam in the dataset using barplot\n",
        "df.label.value_counts().plot(kind=\"bar\");"
      ],
      "execution_count": null,
      "outputs": [
        {
          "output_type": "display_data",
          "data": {
            "image/png": "[encoded data removed]",
            "text/plain": [
              "<Figure size 432x288 with 1 Axes>"
            ]
          },
          "metadata": {
            "tags": [],
            "needs_background": "light"
          }
        }
      ]
    },
    {
      "cell_type": "markdown",
      "metadata": {
        "id": "lgG2_yYGpi0w"
      },
      "source": [
        "By referring to the barplot above, the number of emails considered as ham email entails around 71.01% (3,672/5,171) while the number of emails considered as spam email entails around 28.99% (1,499/5,171)."
      ]
    },
    {
      "cell_type": "markdown",
      "metadata": {
        "id": "40NL34QufAp0"
      },
      "source": [
        "**PROPOSED APPROACHES**"
      ]
    },
    {
      "cell_type": "code",
      "metadata": {
        "id": "OMfDWcWEPFoy",
        "colab": {
          "base_uri": "https://localhost:8080/"
        },
        "outputId": "fff667fa-0dea-4c3b-cde9-8e1e5029e02b"
      },
      "source": [
        "#Download the stopwords package\n",
        "nltk.download('stopwords')"
      ],
      "execution_count": null,
      "outputs": [
        {
          "output_type": "stream",
          "text": [
            "[nltk_data] Downloading package stopwords to /root/nltk_data...\n",
            "[nltk_data]   Unzipping corpora/stopwords.zip.\n"
          ],
          "name": "stdout"
        },
        {
          "output_type": "execute_result",
          "data": {
            "text/plain": [
              "True"
            ]
          },
          "metadata": {
            "tags": []
          },
          "execution_count": 17
        }
      ]
    },
    {
      "cell_type": "code",
      "metadata": {
        "id": "KGWFcuVGPNA3"
      },
      "source": [
        "#To process the text (the mail message)\n",
        "def process_text(text):\n",
        "\n",
        "  #1 remove puncutation\n",
        "  #2 remove stopwords (Stopwords (in Natural Language Processing) means uselss words or data)\n",
        "  #3 return a list of clean text words\n",
        "\n",
        "  #1\n",
        "  nopunc = [char for char in text if char not in string.punctuation]\n",
        "  nopunc = ''.join(nopunc)\n",
        "  \n",
        "  #2\n",
        "  clean_words = [word for word in nopunc.split() if word.lower() not in stopwords.words('english')]\n",
        "\n",
        "  #3\n",
        "  return clean_words"
      ],
      "execution_count": null,
      "outputs": []
    },
    {
      "cell_type": "code",
      "metadata": {
        "id": "wrQH9Es-ifpL",
        "colab": {
          "base_uri": "https://localhost:8080/"
        },
        "outputId": "ed0f1028-25c7-4bf9-f7d4-3a7c2583de8a"
      },
      "source": [
        "#Show the tokenization (a list of tokens also called lemmas)\n",
        "df['text'].head().apply(process_text) \n",
        "#Tokenization is to split text into minimal meaningful units"
      ],
      "execution_count": null,
      "outputs": [
        {
          "output_type": "execute_result",
          "data": {
            "text/plain": [
              "0    [Subject, enron, methanol, meter, 988291, foll...\n",
              "1    [Subject, hpl, nom, january, 9, 2001, see, att...\n",
              "2    [Subject, neon, retreat, ho, ho, ho, around, w...\n",
              "3    [Subject, photoshop, windows, office, cheap, m...\n",
              "4    [Subject, indian, springs, deal, book, teco, p...\n",
              "Name: text, dtype: object"
            ]
          },
          "metadata": {
            "tags": []
          },
          "execution_count": 19
        }
      ]
    },
    {
      "cell_type": "markdown",
      "metadata": {
        "id": "SHXxiSjjjaZt"
      },
      "source": [
        "To process the text in order to able them to be put into a model and make predictions whether or not the email is spam, we first provide an example to demonstrate and proceed to the real test:"
      ]
    },
    {
      "cell_type": "code",
      "metadata": {
        "id": "1crSU3cpjEnA",
        "colab": {
          "base_uri": "https://localhost:8080/"
        },
        "outputId": "b0f6f2ec-73b7-4ebc-ef0e-be5e2b2cbbf9"
      },
      "source": [
        "#Example \n",
        "\n",
        "message1 = \"hello world hello world play\"\n",
        "message2 = \"testing testing one two three hello\"\n",
        "print(message1)\n",
        "print()\n",
        "\n",
        "#Convert the text to a matrix of token counts\n",
        "#bow4 denotes bag of words\n",
        "from sklearn.feature_extraction.text import CountVectorizer\n",
        "bow4 = CountVectorizer(analyzer=process_text).fit_transform([[message1],[message2]])\n",
        "print(bow4)\n",
        "print()\n",
        "\n",
        "print(bow4.shape)"
      ],
      "execution_count": null,
      "outputs": [
        {
          "output_type": "stream",
          "text": [
            "hello world hello world play\n",
            "\n",
            "  (0, 0)\t2\n",
            "  (0, 6)\t2\n",
            "  (0, 2)\t1\n",
            "  (1, 0)\t1\n",
            "  (1, 3)\t2\n",
            "  (1, 1)\t1\n",
            "  (1, 5)\t1\n",
            "  (1, 4)\t1\n",
            "\n",
            "(2, 7)\n"
          ],
          "name": "stdout"
        }
      ]
    },
    {
      "cell_type": "code",
      "metadata": {
        "id": "qeYL2rCmlPBS"
      },
      "source": [
        "#Convert a collection of text to a matriz of tokens\n",
        "from sklearn.feature_extraction.text import CountVectorizer\n",
        "messages_bow = CountVectorizer(analyzer=process_text).fit_transform(df['text'])"
      ],
      "execution_count": null,
      "outputs": []
    },
    {
      "cell_type": "code",
      "metadata": {
        "id": "XvFp9kRyliU4"
      },
      "source": [
        "#Split the data into 80% training and 20% testing\n",
        "from sklearn.model_selection import train_test_split\n",
        "X_train, X_test, y_train, y_test = train_test_split(messages_bow, df['label_num'], test_size=0.20, random_state = 0)\n"
      ],
      "execution_count": null,
      "outputs": []
    },
    {
      "cell_type": "markdown",
      "metadata": {
        "id": "0YVGIQQalvvO"
      },
      "source": [
        "Note that X_train denotes the feature training data set; X_test denotes the feature testing set; y_train denotes the target training set; and y_test denotes the target testing set."
      ]
    },
    {
      "cell_type": "code",
      "metadata": {
        "id": "beMllMJTmIAb",
        "colab": {
          "base_uri": "https://localhost:8080/"
        },
        "outputId": "859fae6b-34cc-422a-ba04-1e511f3a8d00"
      },
      "source": [
        "#Get the shape of messages_bow\n",
        "messages_bow.shape"
      ],
      "execution_count": null,
      "outputs": [
        {
          "output_type": "execute_result",
          "data": {
            "text/plain": [
              "(5171, 50381)"
            ]
          },
          "metadata": {
            "tags": []
          },
          "execution_count": 24
        }
      ]
    },
    {
      "cell_type": "code",
      "metadata": {
        "id": "pcUB3tavmdfD"
      },
      "source": [
        "#Create and train the Naive Bayes Classifier\n",
        "from sklearn.naive_bayes import MultinomialNB\n",
        "classifier = MultinomialNB().fit(X_train, y_train)\n"
      ],
      "execution_count": null,
      "outputs": []
    },
    {
      "cell_type": "markdown",
      "metadata": {
        "id": "FdAlLYBDoWjB"
      },
      "source": [
        "To see how well the model do on training data: "
      ]
    },
    {
      "cell_type": "code",
      "metadata": {
        "id": "VQNRQZaFmxk4",
        "colab": {
          "base_uri": "https://localhost:8080/"
        },
        "outputId": "24166c87-b0e7-4479-d4ca-23678b60970d"
      },
      "source": [
        "#Print the predictions\n",
        "print(classifier.predict(X_train))\n",
        "\n",
        "#Print the actual values\n",
        "print(y_train.values)"
      ],
      "execution_count": null,
      "outputs": [
        {
          "output_type": "stream",
          "text": [
            "[0 0 0 ... 1 0 0]\n",
            "[0 0 0 ... 1 0 0]\n"
          ],
          "name": "stdout"
        }
      ]
    },
    {
      "cell_type": "markdown",
      "metadata": {
        "id": "_k-qZeyvnLA5"
      },
      "source": [
        "Note that .values is added in printing actual values so that the values will appear in a row instead of displaying all in columns. Next, to evaluate the model: "
      ]
    },
    {
      "cell_type": "code",
      "metadata": {
        "id": "U27djwMknDmP",
        "colab": {
          "base_uri": "https://localhost:8080/"
        },
        "outputId": "9e069ae3-1943-4b10-f688-fdcda81bdaf3"
      },
      "source": [
        "#Evaluate the model on the training data set\n",
        "from sklearn.metrics import classification_report, confusion_matrix, accuracy_score\n",
        "pred = classifier.predict(X_train)\n",
        "print(classification_report(y_train, pred))\n",
        "print()\n",
        "print('Confusion Matrix: \\n', confusion_matrix(y_train, pred))\n",
        "print()\n",
        "print('Accuracy: ', accuracy_score(y_train, pred))"
      ],
      "execution_count": null,
      "outputs": [
        {
          "output_type": "stream",
          "text": [
            "              precision    recall  f1-score   support\n",
            "\n",
            "           0       0.99      0.99      0.99      2940\n",
            "           1       0.98      0.97      0.98      1196\n",
            "\n",
            "    accuracy                           0.99      4136\n",
            "   macro avg       0.99      0.98      0.98      4136\n",
            "weighted avg       0.99      0.99      0.99      4136\n",
            "\n",
            "\n",
            "Confusion Matrix: \n",
            " [[2918   22]\n",
            " [  30 1166]]\n",
            "\n",
            "Accuracy:  0.9874274661508704\n"
          ],
          "name": "stdout"
        }
      ]
    },
    {
      "cell_type": "markdown",
      "metadata": {
        "id": "16Y_Tp2hVjFl"
      },
      "source": [
        "The accuracy for train data is 98.74%. It shows that almost all the messages are correct."
      ]
    },
    {
      "cell_type": "markdown",
      "metadata": {
        "id": "p17WxcLGoEwP"
      },
      "source": [
        "To see how well the model do on test data: \n"
      ]
    },
    {
      "cell_type": "code",
      "metadata": {
        "id": "oDMhuMzhn3qH",
        "colab": {
          "base_uri": "https://localhost:8080/"
        },
        "outputId": "d41f43df-78be-4376-eae4-80723c73b004"
      },
      "source": [
        "#Print the predictions\n",
        "print(classifier.predict(X_test))\n",
        "\n",
        "#Print the actual values\n",
        "print(y_test.values)"
      ],
      "execution_count": null,
      "outputs": [
        {
          "output_type": "stream",
          "text": [
            "[0 0 0 ... 0 1 0]\n",
            "[0 0 0 ... 0 1 0]\n"
          ],
          "name": "stdout"
        }
      ]
    },
    {
      "cell_type": "code",
      "metadata": {
        "id": "1BjRzxFLn8EE",
        "colab": {
          "base_uri": "https://localhost:8080/"
        },
        "outputId": "751b40c6-abbf-403a-f3eb-34cd0875558c"
      },
      "source": [
        "#Evaluate the model on the training data set\n",
        "from sklearn.metrics import classification_report, confusion_matrix, accuracy_score\n",
        "pred = classifier.predict(X_test)\n",
        "print(classification_report(y_test, pred))\n",
        "print()\n",
        "print('Confusion Matrix: \\n', confusion_matrix(y_test, pred))\n",
        "print()\n",
        "print('Accuracy: ', accuracy_score(y_test, pred))"
      ],
      "execution_count": null,
      "outputs": [
        {
          "output_type": "stream",
          "text": [
            "              precision    recall  f1-score   support\n",
            "\n",
            "           0       0.98      0.98      0.98       732\n",
            "           1       0.95      0.96      0.96       303\n",
            "\n",
            "    accuracy                           0.97      1035\n",
            "   macro avg       0.97      0.97      0.97      1035\n",
            "weighted avg       0.97      0.97      0.97      1035\n",
            "\n",
            "\n",
            "Confusion Matrix: \n",
            " [[718  14]\n",
            " [ 13 290]]\n",
            "\n",
            "Accuracy:  0.9739130434782609\n"
          ],
          "name": "stdout"
        }
      ]
    },
    {
      "cell_type": "markdown",
      "metadata": {
        "id": "ynUcGmZQof94"
      },
      "source": [
        "The accuracy for the test data is 97.39%. It shows that the data is working well on the model although it is not as accurate as the training data. "
      ]
    },
    {
      "cell_type": "markdown",
      "metadata": {
        "id": "wIlyAvoOZMl3"
      },
      "source": [
        "**CONCLUSION**\n",
        "\n",
        "In the study, we are able to identify the numerous of emails as spam or non-spam with the accuracy 97.39% by using ML model. Through the used of ML model, we able to filter the spam mails instantly and prevent the critical message being missed or delayed. Apart from that, we able to avoid the irritation from unwanted emails continuing show in the mail box and also reduce the risk of being swindled by the theft."
      ]
    },
    {
      "cell_type": "markdown",
      "metadata": {
        "id": "ASKKeNZ816Sv"
      },
      "source": [
        "**REFERENCES** \n",
        "\n",
        "Garnepudi. V (2019). Spam Mails Dataset. Retreived from: https://www.kaggle.com/venky73/spam-mails-dataset\n",
        "\n",
        "Dickson.B (2020). How machine learning removes spam from your inbox. Retrieved from: https://bdtechtalks.com/2020/11/30/machine-learning-spam-detection/\n",
        "\n",
        "Emmanuel.G.D et al. (2019). Machine learning for email spam filtering: review, approaches and open research problems. Retrieved from: https://doi.org/10.1016/j.heliyon.2019.e01802\n",
        "\n",
        "**Credits to :** Computer Science. (2019). Email Spam Detection Using Python & Machine Learning. Available at: https://www.youtube.com/watch?v=cNLPt02RwF0 \n"
      ]
    }
  ]
}